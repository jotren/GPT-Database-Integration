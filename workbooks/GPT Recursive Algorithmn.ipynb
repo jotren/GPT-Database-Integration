{
 "cells": [
  {
   "cell_type": "markdown",
   "id": "9c9f69f1-d9a9-42bf-a49f-570c2f8de9d2",
   "metadata": {},
   "source": [
    "# LLM Database Integration\n",
    "\n"
   ]
  },
  {
   "cell_type": "markdown",
   "id": "06f40576-bf00-454e-9773-4fcbfa8a7d46",
   "metadata": {},
   "source": [
    "Want to create some ChatGPT functions that will allow the model to talk directly with the database. The way I will achieve this is using Chat GPTs tool_calls functionality. This allows a user to pass in a list of tools and get the GPT to decide which tool it would like to call. We then use a class and RESTful APIs to call the requests data. \n",
    "\n",
    "The challenge here is getting the LLM to answer complex questions. This can be solved with recursion!\n",
    "\n",
    "We can contiously call the LLM until it is satisfied it has all the data to answer the question. This script will illustrate how this was built with full deployment in app.py in the root directory. First we set up our Open AI client:"
   ]
  },
  {
   "cell_type": "code",
   "execution_count": 40,
   "id": "9163c81c-2385-42a6-b8e0-adae91e1bd6c",
   "metadata": {},
   "outputs": [],
   "source": [
    "import sys\n",
    "import requests\n",
    "from dotenv import load_dotenv\n",
    "import os\n",
    "\n",
    "# Load environment variables from .env file\n",
    "load_dotenv()\n",
    "\n",
    "sys.path.append('C:/projects/python/gpt-database-wrapper')\n",
    "\n",
    "from src.util.database_API_connection import ApplicationAPI\n",
    "GPT_API_KEY = os.getenv('OPENAI_API_KEY')\n",
    "\n",
    "api = ApplicationAPI(1)"
   ]
  },
  {
   "cell_type": "markdown",
   "id": "5617e413-07c1-4046-bdd9-06b86a26fd0c",
   "metadata": {},
   "source": [
    "Test the ApplicationAPI to check that it is working"
   ]
  },
  {
   "cell_type": "code",
   "execution_count": 42,
   "id": "445dd18f-b8ec-45ba-a41f-28deb718aedc",
   "metadata": {},
   "outputs": [
    {
     "data": {
      "text/plain": [
       "[{'systems': 'Blade Bearing A', 'severity2': 58},\n",
       " {'systems': 'Blade Bearing C', 'severity2': 58},\n",
       " {'systems': 'Gearbox', 'severity1': 54, 'severity0': 3, 'severity2': 1},\n",
       " {'systems': 'Hydraulic Pitch Station',\n",
       "  'severity1': 30,\n",
       "  'severity2': 16,\n",
       "  'severity0': 12},\n",
       " {'systems': 'Yaw', 'severity2': 58},\n",
       " {'systems': 'Blade Bearing B', 'severity2': 57},\n",
       " {'systems': 'Hydraulic System', 'severity0': 2},\n",
       " {'systems': 'Blade Bearing A - Inner', 'severity2': 1},\n",
       " {'systems': 'Blade Bearing A - Outer', 'severity2': 1},\n",
       " {'systems': 'Bearing spongs', 'severity2': 1},\n",
       " {'systems': 'Drive End Brg - Outer cover plate', 'severity0': 1},\n",
       " {'systems': 'Drive End Brg - Race', 'severity0': 1},\n",
       " {'systems': 'Drive End End Shield - Frame', 'severity2': 1},\n",
       " {'systems': 'Non Drive End Brg - Race', 'severity0': 1},\n",
       " {'systems': 'Hydraulic Pitch Station / Before Filter Frial.', 'severity0': 1},\n",
       " {'systems': 'Hydraulic Pitch Station / Filter', 'severity1': 1},\n",
       " {'systems': 'Hydraulic Pitch Station / Filter Kit', 'severity1': 1},\n",
       " {'systems': 'Hydraulic Pitch Station / Pitch Block', 'severity1': 1},\n",
       " {'systems': 'Hydraulic Pitch Station / Tank', 'severity1': 1}]"
      ]
     },
     "execution_count": 42,
     "metadata": {},
     "output_type": "execute_result"
    }
   ],
   "source": [
    "api.get_all_system_severity_data()"
   ]
  },
  {
   "cell_type": "markdown",
   "id": "82f6fb26-ec53-4945-ab0f-2047daa3df36",
   "metadata": {},
   "source": [
    "An introduction to send to the LLM to provide context"
   ]
  },
  {
   "cell_type": "code",
   "execution_count": 49,
   "id": "7f2af423-4874-4dd2-856e-0bd541b01172",
   "metadata": {},
   "outputs": [],
   "source": [
    "GPT_Introduction = \"\"\"The system manages a database of reports and assets for various sites. Each site contains multiple assets, and each asset is linked to specific systems. \n",
    "Reports generated for these systems contain critical data points, including severity levels that indicate the importance of the information (0=no warning, 1=early warning, 2=advanced warning).\n",
    "The API provides access to these reports, assets, and system details, enabling in-depth data analysis. \n",
    "\"\"\""
   ]
  },
  {
   "cell_type": "markdown",
   "id": "32ca0557-51da-4747-b205-2533db3be4e0",
   "metadata": {},
   "source": [
    "Create a function that can handle the tool selection made by the LLM"
   ]
  },
  {
   "cell_type": "code",
   "execution_count": 43,
   "id": "6606ac99-9473-449b-a1df-3bbcd139f488",
   "metadata": {},
   "outputs": [],
   "source": [
    "def handle_function_call(function_name, function_args):\n",
    "    \"\"\"\n",
    "    Handles API function calls based on the function name and arguments.\n",
    "    Updates the context with the data collected and determines the next steps.\n",
    "    \n",
    "    Args:\n",
    "        function_name (str): The name of the function to call.\n",
    "        function_args (dict): Arguments needed for the API function.\n",
    "        context (dict): Context of the conversation to be updated.\n",
    "    \n",
    "    Returns:\n",
    "        tuple: The response from the function and the updated context.\n",
    "    \"\"\"\n",
    "    function_response = None\n",
    "    break_loop = False\n",
    "\n",
    "    try:\n",
    "        if function_name == \"get_asset_ids_names\":\n",
    "            asset_data = api.get_asset_ids_names()\n",
    "            function_response = asset_data        \n",
    "\n",
    "        elif function_name == \"get_single_report_data\":\n",
    "            if 'reportID' in function_args:\n",
    "                report_data = api.get_single_report_data(function_args['reportID'])\n",
    "                function_response = report_data\n",
    "          \n",
    "            else:\n",
    "                function_response = \"Report ID missing.\"\n",
    "                \n",
    "        elif function_name == \"get_all_report_data_from_asset_names\":\n",
    "            if 'assetName' in function_args:\n",
    "                reports_data = api.get_all_report_data_from_asset_names(function_args['assetName'])\n",
    "                function_response = reports_data\n",
    "\n",
    "        elif function_name == \"get_all_report_data_from_asset_names_full\":\n",
    "            if 'assetName' in function_args:\n",
    "                reports_data = api.get_all_report_data_from_asset_names_full(function_args['assetName'])\n",
    "                function_response = reports_data\n",
    "            \n",
    "        elif function_name == \"get_all_system_severity_data\":\n",
    "            severity_data = api.get_all_system_severity_data()\n",
    "            function_response = severity_data\n",
    "        \n",
    "\n",
    "        elif function_name == \"get_number_of_assets\":\n",
    "            num_assets = api.get_number_of_assets()\n",
    "            function_response = num_assets\n",
    "        \n",
    "\n",
    "        elif function_name == \"get_number_of_reports\":\n",
    "            num_reports = api.get_number_of_reports()\n",
    "            function_response = num_reports\n",
    "        \n",
    "\n",
    "        elif function_name == \"get_all_asset_severity_data\":\n",
    "            severity_data = api.get_all_asset_severity_data()\n",
    "            function_response = severity_data\n",
    "\n",
    "        elif function_name == \"no_more_data_required\":\n",
    "            break_loop = True\n",
    "            function_response = []\n",
    "\n",
    "        else:\n",
    "            function_response = \"Function not recognized.\"\n",
    "\n",
    "    except Exception as e:\n",
    "        function_response = f\"An error occurred: {str(e)}\"\n",
    "\n",
    "    return function_response, break_loop"
   ]
  },
  {
   "cell_type": "markdown",
   "id": "497958a7-e305-4ade-bc30-e72c0390a23b",
   "metadata": {},
   "source": [
    "Create a function that provides the LLM with a list of potential tools it can use"
   ]
  },
  {
   "cell_type": "code",
   "execution_count": 44,
   "id": "732756fc-ba9c-49c2-888c-a1850add051a",
   "metadata": {},
   "outputs": [],
   "source": [
    "def define_tools():\n",
    "    \"\"\"\n",
    "    Dynamically define the list of tools available based on the context of the conversation.\n",
    "    Args:\n",
    "    context (dict): The context dictionary containing keys like 'data_collected' and 'data_needed'.\n",
    "    \n",
    "    Returns:\n",
    "    list: A list of tool definitions that should be available for the next step.\n",
    "    \"\"\"\n",
    "    tools = []\n",
    "\n",
    "    # Adding other fixed tools to the list\n",
    "    tools.append({\n",
    "        \"type\": \"function\",\n",
    "        \"function\": {\n",
    "            \"name\": \"get_all_system_severity_data\",\n",
    "            \"description\": \"Fetch high level details on the severities of all the systems in the site. Severity2 is advanced warning, Severity1 is early warning, and Severity0 is no warning.\",\n",
    "            \"parameters\": {},\n",
    "        }\n",
    "    })\n",
    "\n",
    "    tools.append({\n",
    "        \"type\": \"function\",\n",
    "        \"function\": {\n",
    "            \"name\": \"get_number_of_assets\",\n",
    "            \"description\": \"Get number of assets at the site.\",\n",
    "            \"parameters\": {},\n",
    "        }\n",
    "    })\n",
    "\n",
    "    tools.append({\n",
    "        \"type\": \"function\",\n",
    "        \"function\": {\n",
    "            \"name\": \"get_number_of_reports\",\n",
    "            \"description\": \"Get number of reports at the site.\",\n",
    "            \"parameters\": {},\n",
    "        }\n",
    "    })\n",
    "\n",
    "    tools.append({\n",
    "        \"type\": \"function\",\n",
    "        \"function\": {\n",
    "            \"name\": \"get_all_asset_severity_data\",\n",
    "            \"description\": \"Asset information sorted from most severe to least severe.\",\n",
    "            \"parameters\": {},\n",
    "        }\n",
    "    })\n",
    "\n",
    "    tools.append({\n",
    "        \"type\": \"function\",\n",
    "        \"function\": {\n",
    "            \"name\": \"get_all_report_data_from_asset_names\",\n",
    "            \"description\": \"Fetch all reports for a given asset name.\",\n",
    "            \"parameters\": {\n",
    "                \"type\": \"object\",\n",
    "                \"properties\": {\n",
    "                    \"assetName\": {\"type\": \"string\", \"description\": \"Asset name to fetch reports for\"},\n",
    "                },\n",
    "                \"required\": [\"assetName\"],\n",
    "            }\n",
    "        }\n",
    "    })\n",
    "\n",
    "\n",
    "    tools.append({\n",
    "        \"type\": \"function\",\n",
    "        \"function\": {\n",
    "            \"name\": \"get_single_report_data\",\n",
    "            \"description\": \"Fetch details of a single report that relates to a single asset and system. This call provides mode information on what is causing problems.\",\n",
    "            \"parameters\": {\n",
    "                \"type\": \"object\",\n",
    "                \"properties\": {\n",
    "                    \"reportID\": {\"type\": \"string\", \"description\": \"The ID of the report to fetch\"},\n",
    "                },\n",
    "                \"required\": [\"reportID\"],\n",
    "            }\n",
    "        }\n",
    "    })\n",
    "\n",
    "    tools.append({\n",
    "        \"type\": \"function\",\n",
    "        \"function\": {\n",
    "            \"name\": \"no_more_data_required\",\n",
    "            \"description\": \"Call this function when no more data from other functions would help answer the query\",\n",
    "            \"parameters\": {},\n",
    "        }\n",
    "    })\n",
    "\n",
    "    return tools\n"
   ]
  },
  {
   "cell_type": "markdown",
   "id": "f5e8ddd9-89a5-4be0-9500-ce96628ebc3a",
   "metadata": {},
   "source": [
    "Recursion script, the while loop will continue until max_depth is reached or tool_calls is \"stop\". When this has happened we are able to parse the result."
   ]
  },
  {
   "cell_type": "code",
   "execution_count": 45,
   "id": "58f1443f-6745-439d-a893-79f2da565f65",
   "metadata": {},
   "outputs": [],
   "source": [
    "from openai import OpenAI\n",
    "import json\n",
    "\n",
    "client = OpenAI(\n",
    "  api_key=GPT_API_KEY,\n",
    ")\n",
    "\n",
    "\n",
    "def run_conversation(user_query, introduction, max_depth, session_messages=None):\n",
    "    if session_messages is None:\n",
    "        session_messages = []\n",
    "\n",
    "    # Start the conversation or add to it\n",
    "    if not session_messages:\n",
    "        session_messages.append({\"role\": \"system\", \"content\": introduction})\n",
    "    session_messages.append({\"role\": \"user\", \"content\": user_query})\n",
    "\n",
    "    # Define tools based on context\n",
    "    tools = define_tools()\n",
    "    \n",
    "    depth = 0  # Initialize depth counter\n",
    "    while depth < max_depth:\n",
    "        # Call the GPT model with current session messages and tools\n",
    "        response = client.chat.completions.create(\n",
    "            model=\"gpt-3.5-turbo-0125\",\n",
    "            messages=session_messages,\n",
    "            tools=tools,\n",
    "            tool_choice=\"auto\",\n",
    "        )\n",
    "\n",
    "        print(response)\n",
    "\n",
    "        # Check the finish reason of the response\n",
    "        finish_reason = response.choices[0].finish_reason\n",
    "        print(f'Response with finish_reason = {finish_reason}')\n",
    "        \n",
    "        if finish_reason == \"stop\":\n",
    "            # If finish_reason is 'stop', return the response and end the loop\n",
    "            return response, session_messages\n",
    "        elif finish_reason == \"tool_calls\":\n",
    "            # Handle tool calls and continue the loop\n",
    "            tool_calls = response.choices[0].message.tool_calls\n",
    "            for tool_call in tool_calls:\n",
    "                function_name = tool_call.function.name\n",
    "                function_args = json.loads(tool_call.function.arguments) if tool_call.function.arguments else {}\n",
    "                function_response = handle_function_call(function_name, function_args)\n",
    "                session_messages.append({\"role\": \"system\", \"name\": function_name, \"content\": json.dumps(function_response)})\n",
    "            depth += 1  # Increment depth after each cycle\n",
    "        else:\n",
    "            # Continue if other reasons but log unexpected behavior\n",
    "            print(f'Unhandled finish reason: {finish_reason}')\n",
    "            break\n",
    "\n",
    "    # This point should not be reached if while loop is correctly configured\n",
    "    return None, session_messages\n"
   ]
  },
  {
   "cell_type": "markdown",
   "id": "cbbb9d49-8b51-4746-af6e-ed9456241b8d",
   "metadata": {},
   "source": [
    "Use the tool and send a question that gets the LLM to pull disperate peices of information"
   ]
  },
  {
   "cell_type": "code",
   "execution_count": 46,
   "id": "61545c7d-7b85-454a-a4ae-d290053b3f61",
   "metadata": {
    "scrolled": true
   },
   "outputs": [
    {
     "name": "stdout",
     "output_type": "stream",
     "text": [
      "ChatCompletion(id='chatcmpl-9NLLm0Ecc094WYXV6e9u2RZUN6CyF', choices=[Choice(finish_reason='tool_calls', index=0, logprobs=None, message=ChatCompletionMessage(content=None, role='assistant', function_call=None, tool_calls=[ChatCompletionMessageToolCall(id='call_BFrkDgclMdQ8EcLweq1GH09V', function=Function(arguments='{}', name='get_all_system_severity_data'), type='function')]))], created=1715350642, model='gpt-3.5-turbo-0125', object='chat.completion', system_fingerprint=None, usage=CompletionUsage(completion_tokens=14, prompt_tokens=374, total_tokens=388))\n",
      "Response with finish_reason = tool_calls\n",
      "ChatCompletion(id='chatcmpl-9NLLnoHt2Hoc0cblf4YmjtRxB5MyC', choices=[Choice(finish_reason='tool_calls', index=0, logprobs=None, message=ChatCompletionMessage(content=None, role='assistant', function_call=None, tool_calls=[ChatCompletionMessageToolCall(id='call_zEUtMMMZwrzDVwhmOAYmhZhw', function=Function(arguments='{}', name='get_all_asset_severity_data'), type='function')]))], created=1715350643, model='gpt-3.5-turbo-0125', object='chat.completion', system_fingerprint=None, usage=CompletionUsage(completion_tokens=14, prompt_tokens=744, total_tokens=758))\n",
      "Response with finish_reason = tool_calls\n",
      "ChatCompletion(id='chatcmpl-9NLLqsGsQKUz7x9A26ens5nEqkHRH', choices=[Choice(finish_reason='tool_calls', index=0, logprobs=None, message=ChatCompletionMessage(content=None, role='assistant', function_call=None, tool_calls=[ChatCompletionMessageToolCall(id='call_GZlHP45fjSDkmsQwpfkAhvlz', function=Function(arguments='{\"reportID\": \"1474\"}', name='get_single_report_data'), type='function'), ChatCompletionMessageToolCall(id='call_31VwmhRvYIWgH1gbTZ3uuOw4', function=Function(arguments='{\"reportID\": \"1408\"}', name='get_single_report_data'), type='function'), ChatCompletionMessageToolCall(id='call_uKmIY1HoHhylWTieeeJBuEih', function=Function(arguments='{\"reportID\": \"1409\"}', name='get_single_report_data'), type='function'), ChatCompletionMessageToolCall(id='call_ue7i6JWvu1rnwyxHafyKJD1E', function=Function(arguments='{\"reportID\": \"8100\"}', name='get_single_report_data'), type='function'), ChatCompletionMessageToolCall(id='call_OCV8XrdygYNDZAVDCZue2A74', function=Function(arguments='{\"reportID\": \"8101\"}', name='get_single_report_data'), type='function')]))], created=1715350646, model='gpt-3.5-turbo-0125', object='chat.completion', system_fingerprint=None, usage=CompletionUsage(completion_tokens=105, prompt_tokens=2675, total_tokens=2780))\n",
      "Response with finish_reason = tool_calls\n",
      "ChatCompletion(id='chatcmpl-9NLLtS0668oQltrm4KO8Kqkvn1cEG', choices=[Choice(finish_reason='stop', index=0, logprobs=None, message=ChatCompletionMessage(content='The most affected system at the site is \"Blade Bearing A\" with a severity level of 2. \\n\\nFor the asset A2:\\n- Blade Bearing A: \\n    - Severity Level: 2\\n    - Report Date: May 24, 2023\\n    - Chromium level: 290\\n\\n- Blade Bearing A - Inner: \\n    - Severity Level: 2\\n    - Report Date: May 4, 2023\\n    - Chromium level: 149\\n\\n- Blade Bearing A - Outer: \\n    - Severity Level: 2\\n    - Report Date: May 11, 2023\\n    - Chromium level: 167\\n\\nPlease note that the Chromium levels for the other systems in the asset A2 are not available in the reports.', role='assistant', function_call=None, tool_calls=None))], created=1715350649, model='gpt-3.5-turbo-0125', object='chat.completion', system_fingerprint=None, usage=CompletionUsage(completion_tokens=161, prompt_tokens=5010, total_tokens=5171))\n",
      "Response with finish_reason = stop\n"
     ]
    }
   ],
   "source": [
    "# Example of running the function with a dynamic query\n",
    "tools = define_tools()\n",
    "user_input = f\"\"\"What is the most affected system at the site? What is the state of this system for the asset A2? What is the Chromium levels for these systems in the asset?\"\"\"\n",
    "\n",
    "response, updated_messages = run_conversation(user_input, GPT_Introduction, max_depth = 10)"
   ]
  },
  {
   "cell_type": "markdown",
   "id": "96ac7130-3107-41ad-ad59-58903afc1018",
   "metadata": {},
   "source": [
    "Parse the result"
   ]
  },
  {
   "cell_type": "code",
   "execution_count": 47,
   "id": "c534457f-aba4-410c-b0f2-4f66467110b8",
   "metadata": {},
   "outputs": [
    {
     "name": "stdout",
     "output_type": "stream",
     "text": [
      "The most affected system at the site is \"Blade Bearing A\" with a severity level of 2. \n",
      "\n",
      "For the asset A2:\n",
      "- Blade Bearing A: \n",
      "    - Severity Level: 2\n",
      "    - Report Date: May 24, 2023\n",
      "    - Chromium level: 290\n",
      "\n",
      "- Blade Bearing A - Inner: \n",
      "    - Severity Level: 2\n",
      "    - Report Date: May 4, 2023\n",
      "    - Chromium level: 149\n",
      "\n",
      "- Blade Bearing A - Outer: \n",
      "    - Severity Level: 2\n",
      "    - Report Date: May 11, 2023\n",
      "    - Chromium level: 167\n",
      "\n",
      "Please note that the Chromium levels for the other systems in the asset A2 are not available in the reports.\n"
     ]
    }
   ],
   "source": [
    "message_content = response.choices[0].message.content\n",
    "print(message_content)"
   ]
  },
  {
   "cell_type": "markdown",
   "id": "34e73e3c-c834-445e-8ba9-bb0422e182fb",
   "metadata": {},
   "source": [
    "## Results\n",
    "\n",
    "The results show that the recursive algorithmn is able to produce insights by pulling disperate pieces of information together to formulate a result."
   ]
  },
  {
   "cell_type": "code",
   "execution_count": null,
   "id": "7b8e60a1-a341-4a8f-ae2e-0416edfea609",
   "metadata": {},
   "outputs": [],
   "source": []
  }
 ],
 "metadata": {
  "kernelspec": {
   "display_name": "Python (LLM)",
   "language": "python",
   "name": "llm"
  },
  "language_info": {
   "codemirror_mode": {
    "name": "ipython",
    "version": 3
   },
   "file_extension": ".py",
   "mimetype": "text/x-python",
   "name": "python",
   "nbconvert_exporter": "python",
   "pygments_lexer": "ipython3",
   "version": "3.10.14"
  }
 },
 "nbformat": 4,
 "nbformat_minor": 5
}
